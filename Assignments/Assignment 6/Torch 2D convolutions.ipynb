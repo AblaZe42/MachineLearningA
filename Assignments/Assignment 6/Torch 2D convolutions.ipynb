{
 "cells": [
  {
   "cell_type": "markdown",
   "id": "structured-tuning",
   "metadata": {},
   "source": [
    "# PyTorch 2D convolutions\n",
    "#### Christian Igel, 2023"
   ]
  },
  {
   "cell_type": "code",
   "execution_count": 1,
   "id": "realistic-banana",
   "metadata": {},
   "outputs": [],
   "source": [
    "import torch\n",
    "import torch.nn as nn"
   ]
  },
  {
   "cell_type": "markdown",
   "id": "sized-craft",
   "metadata": {},
   "source": [
    "## One input channel, one output, no padding\n",
    "Let's define a `W`$\\times$`W` filter. For the following examples, we do not need a bias parameter."
   ]
  },
  {
   "cell_type": "code",
   "execution_count": 2,
   "id": "capital-granny",
   "metadata": {},
   "outputs": [
    {
     "name": "stdout",
     "output_type": "stream",
     "text": [
      "We just defined: Conv2d(1, 1, kernel_size=(3, 3), stride=(1, 1), bias=False)\n"
     ]
    }
   ],
   "source": [
    "# Convolution filter is of size W\n",
    "W = 3\n",
    "# 1 input (image) channel, 1 output channel, WxW convolution kernel\n",
    "conv = nn.Conv2d(1, 1, W, bias=False)\n",
    "print(\"We just defined:\", conv)"
   ]
  },
  {
   "cell_type": "markdown",
   "id": "virgin-throat",
   "metadata": {},
   "source": [
    "Let's look at the kernel dimensions:"
   ]
  },
  {
   "cell_type": "code",
   "execution_count": 3,
   "id": "homeless-discovery",
   "metadata": {
    "scrolled": true
   },
   "outputs": [
    {
     "name": "stdout",
     "output_type": "stream",
     "text": [
      "torch.Size([1, 1, 3, 3])\n"
     ]
    }
   ],
   "source": [
    "# 1 output channel, 1 input channel, 1st dimension = W, 2nd dimension = W\n",
    "print(conv.weight.shape)"
   ]
  },
  {
   "cell_type": "markdown",
   "id": "ordered-working",
   "metadata": {},
   "source": [
    "The filter parameters are initialized randomly:"
   ]
  },
  {
   "cell_type": "code",
   "execution_count": 4,
   "id": "excess-pennsylvania",
   "metadata": {},
   "outputs": [
    {
     "name": "stdout",
     "output_type": "stream",
     "text": [
      "Parameter containing:\n",
      "tensor([[[[ 0.2767,  0.2860,  0.2137],\n",
      "          [-0.2925, -0.2120,  0.2646],\n",
      "          [ 0.2816,  0.2279, -0.2864]]]], requires_grad=True)\n"
     ]
    }
   ],
   "source": [
    "print(conv.weight)"
   ]
  },
  {
   "cell_type": "markdown",
   "id": "lonely-monaco",
   "metadata": {},
   "source": [
    "We can set the parameters as follows:"
   ]
  },
  {
   "cell_type": "code",
   "execution_count": 5,
   "id": "ambient-sender",
   "metadata": {},
   "outputs": [
    {
     "name": "stdout",
     "output_type": "stream",
     "text": [
      "Parameter containing:\n",
      "tensor([[[[1., 1., 1.],\n",
      "          [1., 1., 1.],\n",
      "          [1., 1., 1.]]]], requires_grad=True)\n"
     ]
    }
   ],
   "source": [
    "conv.weight = torch.nn.Parameter(torch.ones_like(conv.weight))\n",
    "print(conv.weight)"
   ]
  },
  {
   "cell_type": "markdown",
   "id": "serial-evolution",
   "metadata": {},
   "source": [
    "Let's define an input (image) `x`. The input is of the same shape as the filter:"
   ]
  },
  {
   "cell_type": "code",
   "execution_count": 6,
   "id": "preceding-spank",
   "metadata": {
    "scrolled": true
   },
   "outputs": [
    {
     "name": "stdout",
     "output_type": "stream",
     "text": [
      "Input:\n",
      " tensor([[[[0., 1., 2.],\n",
      "          [3., 4., 5.],\n",
      "          [6., 7., 8.]]]])\n",
      "Sum of all input elements: 36.0\n"
     ]
    }
   ],
   "source": [
    "x = torch.arange(float(W*W))\n",
    "x = torch.reshape(x, (1, 1, W, W))\n",
    "print('Input:\\n', x)\n",
    "print('Sum of all input elements:', torch.sum(x).item())"
   ]
  },
  {
   "cell_type": "markdown",
   "id": "streaming-benjamin",
   "metadata": {},
   "source": [
    "Because there is no padding and input and filter have the same size, there is only one valid position for the filter. Accordingly, the result is a tensor with a single value:"
   ]
  },
  {
   "cell_type": "code",
   "execution_count": 7,
   "id": "million-bunch",
   "metadata": {},
   "outputs": [
    {
     "name": "stdout",
     "output_type": "stream",
     "text": [
      "Tensor: tensor([[[[36.]]]], grad_fn=<ConvolutionBackward0>) scalar: 36.0\n"
     ]
    }
   ],
   "source": [
    "c = conv(x)\n",
    "print('Tensor:', c, 'scalar:', c.item())"
   ]
  },
  {
   "cell_type": "markdown",
   "id": "final-positive",
   "metadata": {},
   "source": [
    "The scalar should be equal to the sum of all input elements (ensure that you understand why)."
   ]
  },
  {
   "cell_type": "markdown",
   "id": "limiting-stomach",
   "metadata": {},
   "source": [
    "## One input channel, one output,  padding\n",
    "Now we add zero-padding such that the input dimensionality is preseved:\n"
   ]
  },
  {
   "cell_type": "code",
   "execution_count": 8,
   "id": "naughty-alfred",
   "metadata": {},
   "outputs": [
    {
     "name": "stdout",
     "output_type": "stream",
     "text": [
      "tensor([[[[ 8., 15., 12.],\n",
      "          [21., 36., 27.],\n",
      "          [20., 33., 24.]]]], grad_fn=<ConvolutionBackward0>)\n"
     ]
    }
   ],
   "source": [
    "conv = nn.Conv2d(1, 1, W, padding=W//2, bias=False)\n",
    "conv.weight = torch.nn.Parameter(torch.ones_like(conv.weight))\n",
    "c = conv(x)\n",
    "print(c)"
   ]
  },
  {
   "cell_type": "markdown",
   "id": "invalid-communication",
   "metadata": {},
   "source": [
    "## Several input channels, one output, no padding\n",
    "Typically, the input to a convolutional layer consists of several feature maps or channels. For example, consider a 2D input with three channels (e.g., an RGB colour image):"
   ]
  },
  {
   "cell_type": "code",
   "execution_count": 9,
   "id": "amber-somerset",
   "metadata": {},
   "outputs": [
    {
     "name": "stdout",
     "output_type": "stream",
     "text": [
      "Input: tensor([[[[ 0.,  1.,  2.],\n",
      "          [ 3.,  4.,  5.],\n",
      "          [ 6.,  7.,  8.]],\n",
      "\n",
      "         [[ 9., 10., 11.],\n",
      "          [12., 13., 14.],\n",
      "          [15., 16., 17.]],\n",
      "\n",
      "         [[18., 19., 20.],\n",
      "          [21., 22., 23.],\n",
      "          [24., 25., 26.]]]])\n",
      "Sum of all inputs: 351.0\n"
     ]
    }
   ],
   "source": [
    "x = torch.arange(float(3*W*W))\n",
    "x = torch.reshape(x, (1, 3, W, W))\n",
    "print('Input:', x)\n",
    "print('Sum of all inputs:', torch.sum(x).item())"
   ]
  },
  {
   "cell_type": "markdown",
   "id": "voluntary-porter",
   "metadata": {},
   "source": [
    "Let's define a convolutional layer that takes three channels as input and produces a single output feature map:"
   ]
  },
  {
   "cell_type": "code",
   "execution_count": 10,
   "id": "spare-ranch",
   "metadata": {},
   "outputs": [
    {
     "name": "stdout",
     "output_type": "stream",
     "text": [
      "Weight parameters of convolutional layer: Parameter containing:\n",
      "tensor([[[[1., 1., 1.],\n",
      "          [1., 1., 1.],\n",
      "          [1., 1., 1.]],\n",
      "\n",
      "         [[1., 1., 1.],\n",
      "          [1., 1., 1.],\n",
      "          [1., 1., 1.]],\n",
      "\n",
      "         [[1., 1., 1.],\n",
      "          [1., 1., 1.],\n",
      "          [1., 1., 1.]]]], requires_grad=True)\n"
     ]
    }
   ],
   "source": [
    "# 3 input (image) channels, 1 output channel, WxW convolution kernel\n",
    "conv = nn.Conv2d(3, 1, W, bias=False)\n",
    "conv.weight = torch.nn.Parameter(torch.ones_like(conv.weight))\n",
    "print('Weight parameters of convolutional layer:', conv.weight)"
   ]
  },
  {
   "cell_type": "markdown",
   "id": "prime-wrapping",
   "metadata": {},
   "source": [
    "Note that there is one filter for each input channel.\n",
    "The convolutional layer first convolves each input channel with the corresponding filter.\n",
    "This results in three feature maps, whih are added to give the final result:"
   ]
  },
  {
   "cell_type": "code",
   "execution_count": 11,
   "id": "remarkable-prayer",
   "metadata": {
    "scrolled": false
   },
   "outputs": [
    {
     "name": "stdout",
     "output_type": "stream",
     "text": [
      "number of filter parameters: 27 \n",
      "result of filtering the input: tensor([[[[351.]]]], grad_fn=<ConvolutionBackward0>)\n"
     ]
    }
   ],
   "source": [
    "c = conv(x)\n",
    "print('number of filter parameters:', conv.weight.numel(), '\\nresult of filtering the input:', c)"
   ]
  },
  {
   "cell_type": "markdown",
   "id": "accessible-calcium",
   "metadata": {},
   "source": [
    "It is important that the number of parameters and the dimesionality of the result is clear to you."
   ]
  },
  {
   "cell_type": "markdown",
   "id": "expected-antarctica",
   "metadata": {},
   "source": [
    "Now let's apply 1$\\times$1 convolutions to our three input channels. Again, we set all filter weights to 1."
   ]
  },
  {
   "cell_type": "code",
   "execution_count": 12,
   "id": "likely-front",
   "metadata": {
    "scrolled": true
   },
   "outputs": [
    {
     "name": "stdout",
     "output_type": "stream",
     "text": [
      "Parameter containing:\n",
      "tensor([[[[1.]],\n",
      "\n",
      "         [[1.]],\n",
      "\n",
      "         [[1.]]]], requires_grad=True)\n"
     ]
    }
   ],
   "source": [
    "# 3 input (image) channels, 1 output channel, 1x1 convolution kernel\n",
    "conv = nn.Conv2d(3, 1, 1, bias=False)\n",
    "conv.weight = torch.nn.Parameter(torch.ones_like(conv.weight))\n",
    "print(conv.weight)"
   ]
  },
  {
   "cell_type": "markdown",
   "id": "advisory-resort",
   "metadata": {},
   "source": [
    "This convolutional layer adds the three input feature maps/channels:"
   ]
  },
  {
   "cell_type": "code",
   "execution_count": 13,
   "id": "amateur-sharing",
   "metadata": {
    "scrolled": true
   },
   "outputs": [
    {
     "name": "stdout",
     "output_type": "stream",
     "text": [
      "tensor([[[[27., 30., 33.],\n",
      "          [36., 39., 42.],\n",
      "          [45., 48., 51.]]]], grad_fn=<ConvolutionBackward0>)\n"
     ]
    }
   ],
   "source": [
    "c = conv(x)\n",
    "print(c)"
   ]
  },
  {
   "cell_type": "markdown",
   "id": "million-liberty",
   "metadata": {},
   "source": [
    "Thus, 1$\\times$1 convolutions can be used to compute weighted sums of input feature maps/channels (in our previous example, all weights were set to 1). "
   ]
  },
  {
   "cell_type": "markdown",
   "id": "threatened-rolling",
   "metadata": {},
   "source": [
    "## Several output maps\n",
    "Typically, convolutional layer produce several feature maps or channels. For example, consider \n",
    "extending the previous 1$\\times$1 example to two output maps:"
   ]
  },
  {
   "cell_type": "code",
   "execution_count": 14,
   "id": "effective-reform",
   "metadata": {
    "scrolled": true
   },
   "outputs": [
    {
     "name": "stdout",
     "output_type": "stream",
     "text": [
      "Parameter containing:\n",
      "tensor([[[[1.]],\n",
      "\n",
      "         [[1.]],\n",
      "\n",
      "         [[1.]]],\n",
      "\n",
      "\n",
      "        [[[1.]],\n",
      "\n",
      "         [[1.]],\n",
      "\n",
      "         [[1.]]]], requires_grad=True)\n"
     ]
    }
   ],
   "source": [
    "# 3 input (image) channels, 2 output channel, 1x1 convolution kernel\n",
    "conv = nn.Conv2d(3, 2, 1, bias=False)\n",
    "conv.weight = torch.nn.Parameter(torch.ones_like(conv.weight))\n",
    "print(conv.weight)"
   ]
  },
  {
   "cell_type": "markdown",
   "id": "veterinary-while",
   "metadata": {},
   "source": [
    "This layer maps 3 input feature maps to 2 output feature maps, which are identical in our example, because we initialized all filters so that they are identical: "
   ]
  },
  {
   "cell_type": "code",
   "execution_count": 15,
   "id": "civilian-dallas",
   "metadata": {
    "scrolled": true
   },
   "outputs": [
    {
     "name": "stdout",
     "output_type": "stream",
     "text": [
      "tensor([[[[27., 30., 33.],\n",
      "          [36., 39., 42.],\n",
      "          [45., 48., 51.]],\n",
      "\n",
      "         [[27., 30., 33.],\n",
      "          [36., 39., 42.],\n",
      "          [45., 48., 51.]]]], grad_fn=<ConvolutionBackward0>)\n"
     ]
    }
   ],
   "source": [
    "c = conv(x)\n",
    "print(c)"
   ]
  },
  {
   "cell_type": "markdown",
   "id": "korean-arrow",
   "metadata": {},
   "source": [
    "The first convolutional layer in a network has typically more output feature maps than input channels. Let's assume 3 input channels, 4 output channels of the same dimensionality (i.e., we use padding), and a filter size of 3. For each output channel, we have 3 filter with 9 parameters/weights each. Thus, we have 108 parameters in total:"
   ]
  },
  {
   "cell_type": "code",
   "execution_count": 16,
   "id": "infrared-renewal",
   "metadata": {
    "scrolled": true
   },
   "outputs": [
    {
     "name": "stdout",
     "output_type": "stream",
     "text": [
      "Parameter containing:\n",
      "tensor([[[[ 0.1352,  0.1278, -0.0482],\n",
      "          [ 0.0037,  0.1632, -0.1055],\n",
      "          [-0.1798, -0.1233,  0.1368]],\n",
      "\n",
      "         [[-0.0348,  0.0057,  0.1439],\n",
      "          [ 0.0302,  0.1575, -0.1572],\n",
      "          [ 0.1392,  0.1114, -0.1064]],\n",
      "\n",
      "         [[ 0.0890, -0.1197,  0.1819],\n",
      "          [ 0.0513,  0.0313,  0.0318],\n",
      "          [-0.0940,  0.0725,  0.0662]]],\n",
      "\n",
      "\n",
      "        [[[ 0.0756,  0.0357, -0.1510],\n",
      "          [-0.1286, -0.0305,  0.1310],\n",
      "          [ 0.0132, -0.0019,  0.0788]],\n",
      "\n",
      "         [[-0.0127,  0.1596, -0.0005],\n",
      "          [-0.0888, -0.0508, -0.1454],\n",
      "          [ 0.1112,  0.1666, -0.0855]],\n",
      "\n",
      "         [[ 0.0827,  0.0692,  0.0603],\n",
      "          [-0.1745, -0.0940,  0.0556],\n",
      "          [-0.0532, -0.0684,  0.1911]]],\n",
      "\n",
      "\n",
      "        [[[ 0.0438,  0.1138, -0.0321],\n",
      "          [ 0.1009,  0.0688, -0.0197],\n",
      "          [-0.1078, -0.0409, -0.0331]],\n",
      "\n",
      "         [[ 0.1442,  0.0253,  0.1654],\n",
      "          [-0.1351,  0.1029, -0.1099],\n",
      "          [-0.1283,  0.0174,  0.0827]],\n",
      "\n",
      "         [[-0.0794,  0.0592,  0.1453],\n",
      "          [-0.0545, -0.1473, -0.0753],\n",
      "          [ 0.0476,  0.0963, -0.1852]]],\n",
      "\n",
      "\n",
      "        [[[ 0.0706,  0.1771,  0.0075],\n",
      "          [ 0.0329, -0.1787,  0.0684],\n",
      "          [ 0.1825,  0.1039, -0.0055]],\n",
      "\n",
      "         [[-0.0537,  0.0463, -0.1743],\n",
      "          [-0.0082, -0.1428, -0.1236],\n",
      "          [ 0.1632,  0.0657,  0.0481]],\n",
      "\n",
      "         [[ 0.0580,  0.0459,  0.1643],\n",
      "          [ 0.1846, -0.1394,  0.0477],\n",
      "          [-0.0356,  0.0208,  0.1571]]]], requires_grad=True)\n",
      "Number of parameters: 108\n"
     ]
    }
   ],
   "source": [
    "conv = nn.Conv2d(3, 4, W, padding=W//2, bias=False)\n",
    "print(conv.weight)\n",
    "print(\"Number of parameters:\", conv.weight.shape.numel())"
   ]
  },
  {
   "cell_type": "markdown",
   "id": "primary-chair",
   "metadata": {},
   "source": [
    "And here are the resulting feature maps when applied to our input:"
   ]
  },
  {
   "cell_type": "code",
   "execution_count": 17,
   "id": "blond-damages",
   "metadata": {},
   "outputs": [
    {
     "name": "stdout",
     "output_type": "stream",
     "text": [
      "tensor([[[[ 4.0163,  4.6467,  5.5976],\n",
      "          [ 7.5951,  9.6567,  6.0887],\n",
      "          [ 5.2519,  9.2268,  6.5994]],\n",
      "\n",
      "         [[ 1.5480, -1.9898, -5.7562],\n",
      "          [ 5.6598,  2.7068, -2.2243],\n",
      "          [ 0.9725, -3.4703, -4.2746]],\n",
      "\n",
      "         [[-5.2978, -8.6015, -2.7600],\n",
      "          [-0.3518, -4.1424, -1.6344],\n",
      "          [ 1.7489, -0.4894, -1.7614]],\n",
      "\n",
      "         [[ 1.5412,  6.4699,  2.7270],\n",
      "          [ 3.9349, 11.2486,  5.8893],\n",
      "          [-3.4371,  1.6498,  0.6793]]]], grad_fn=<ConvolutionBackward0>)\n"
     ]
    }
   ],
   "source": [
    "c = conv(x)\n",
    "print(c)"
   ]
  },
  {
   "cell_type": "markdown",
   "id": "central-ozone",
   "metadata": {},
   "source": [
    "# Image processing examples\n",
    "Now we consider a more complex example that involves some basic image transformations. First, we need to import the torch image utilities and matplot for visualization."
   ]
  },
  {
   "cell_type": "code",
   "execution_count": 18,
   "id": "preliminary-discount",
   "metadata": {},
   "outputs": [],
   "source": [
    "import torchvision\n",
    "from torchvision.io import read_image, ImageReadMode\n",
    "\n",
    "\n",
    "import matplotlib.pyplot as plt"
   ]
  },
  {
   "cell_type": "markdown",
   "id": "concerned-demographic",
   "metadata": {},
   "source": [
    "Let's generate an image and save it in JPEG format. "
   ]
  },
  {
   "cell_type": "code",
   "execution_count": 19,
   "id": "70943ab0",
   "metadata": {
    "scrolled": true
   },
   "outputs": [
    {
     "data": {
      "image/png": "[encoded data removed]",
      "text/plain": [
       "<Figure size 640x480 with 1 Axes>"
      ]
     },
     "metadata": {},
     "output_type": "display_data"
    }
   ],
   "source": [
    "text = \"ML\"\n",
    "ax = plt.subplot()\n",
    "ax.axis('off')\n",
    "plt.text(0.5, 0.5, text, size=200,\n",
    "         ha=\"center\", va=\"center\")\n",
    "plt.savefig(text+\".jpg\")"
   ]
  },
  {
   "cell_type": "markdown",
   "id": "f263e8db",
   "metadata": {},
   "source": [
    "Now we load the image again and convert it to grayscale so that we just deal with a single channel. The object returned by `read_image` is a tensor. We cast this tensor to a float tensor."
   ]
  },
  {
   "cell_type": "code",
   "execution_count": 20,
   "id": "0cfe3a46",
   "metadata": {
    "scrolled": false
   },
   "outputs": [
    {
     "name": "stdout",
     "output_type": "stream",
     "text": [
      "Tensor shape: torch.Size([1, 480, 640]) type: torch.FloatTensor min: 0.0 max: 255.0\n"
     ]
    }
   ],
   "source": [
    "image = read_image(text+\".jpg\", mode=ImageReadMode.GRAY).type(torch.FloatTensor)\n",
    "print(\"Tensor shape:\", image.shape, \"type:\", image.type(), \"min:\", image.min().item(), \"max:\", image.max().item())"
   ]
  },
  {
   "cell_type": "markdown",
   "id": "colonial-netscape",
   "metadata": {},
   "source": [
    "Let's plot the image. The tensor has the channels (here only one) as the first dimension. For an image, this is typically the last dimension, so we swap the dimensions for plotting:"
   ]
  },
  {
   "cell_type": "code",
   "execution_count": 21,
   "id": "median-coordinate",
   "metadata": {
    "scrolled": true
   },
   "outputs": [
    {
     "data": {
      "image/png": "[encoded data removed]",
      "text/plain": [
       "<Figure size 640x480 with 1 Axes>"
      ]
     },
     "metadata": {},
     "output_type": "display_data"
    }
   ],
   "source": [
    "plt.imshow(image.permute(1, 2, 0), cmap='gray');"
   ]
  },
  {
   "cell_type": "markdown",
   "id": "suitable-drill",
   "metadata": {},
   "source": [
    "In order to be process by a layer, the tensor needs  another dimension/axis for enumerating the elements in a batch:"
   ]
  },
  {
   "cell_type": "code",
   "execution_count": 22,
   "id": "heated-service",
   "metadata": {},
   "outputs": [
    {
     "name": "stdout",
     "output_type": "stream",
     "text": [
      "Shape after adding batch dimension: torch.Size([1, 1, 480, 640])\n"
     ]
    }
   ],
   "source": [
    "x = image.unsqueeze_(0)  # Add a dimension\n",
    "print(\"Shape after adding batch dimension:\", x.shape);"
   ]
  },
  {
   "cell_type": "markdown",
   "id": "empirical-rainbow",
   "metadata": {},
   "source": [
    "Now we apply a simple horizontal gradient filter:"
   ]
  },
  {
   "cell_type": "code",
   "execution_count": 23,
   "id": "trained-eligibility",
   "metadata": {},
   "outputs": [
    {
     "name": "stdout",
     "output_type": "stream",
     "text": [
      "Kernel: tensor([[[[-1.,  1.]]]]) shape: torch.Size([1, 1, 1, 2])\n",
      "Tensor shape: torch.Size([1, 1, 480, 641]) min: -255.0 max: 255.0\n"
     ]
    }
   ],
   "source": [
    "hf = torch.tensor([[[[-1., 1.]]]])  # Define filter\n",
    "print(\"Kernel:\", hf, \"shape:\", hf.shape)\n",
    "\n",
    "conv = nn.Conv2d(1, 1, kernel_size=(1, 2), padding=(0, 1), bias=False)  # Padding only in one dimension needed\n",
    "conv.weight = torch.nn.Parameter(hf, requires_grad=False)  # Set kernel parameters to predefined filter parameters  \n",
    "c = conv(x)  # Apply filter\n",
    "print(\"Tensor shape:\", c.shape, \"min:\", c.min().item(), \"max:\", c.max().item())"
   ]
  },
  {
   "cell_type": "markdown",
   "id": "historic-comedy",
   "metadata": {},
   "source": [
    "We do not need a gradient for the kernel parameters, so we can use ``requires_grad=False``. This allows us to use ``c[0.0]`` as a NumPy array in the visualizaiton below. Alternatively, we could use ``c[0,0].detach()`` in the ``imshow`` call."
   ]
  },
  {
   "cell_type": "code",
   "execution_count": 24,
   "id": "natural-trail",
   "metadata": {
    "scrolled": true
   },
   "outputs": [
    {
     "name": "stdout",
     "output_type": "stream",
     "text": [
      "torch.Size([480, 641])\n"
     ]
    },
    {
     "data": {
      "image/png": "[encoded data removed]",
      "text/plain": [
       "<Figure size 640x480 with 1 Axes>"
      ]
     },
     "metadata": {},
     "output_type": "display_data"
    }
   ],
   "source": [
    "print(c[0,0].shape)\n",
    "plt.imshow(c[0,0], cmap='gray');"
   ]
  },
  {
   "cell_type": "code",
   "execution_count": 52,
   "id": "a411d436",
   "metadata": {},
   "outputs": [],
   "source": [
    "\n",
    "x_Sobel = torch.tensor([[[[1., 0., -1.],\n",
    "                        [2., 0., -2.],\n",
    "                        [1., 0., -1.]]]])\n",
    "y_Sobel = torch.tensor([[[[1., 2., 1.],\n",
    "                        [0., 0., 0.],\n",
    "                        [-1., -2., -1.]]]])\n",
    "\n",
    "# #combine thhe filters\n",
    "x_y_Sobel = torch.cat([x_Sobel, y_Sobel], dim=0)\n",
    "\n",
    "\n",
    "# #define the convolution layer\n",
    "convolution = nn.Conv2d(1, 2, 3, padding=1, bias=False)\n",
    "\n",
    "\n",
    "# set layer parameters\n",
    "convolution.weight = nn.Parameter(x_y_Sobel, requires_grad=False)\n",
    "\n",
    "c= convolution(x)\n",
    "\n",
    "x_filter=c[0,0]\n",
    "y_filter=c[0,1]\n",
    "\n",
    "feature_map= torch.sqrt(torch.square(x_filter)+torch.square(y_filter))\n"
   ]
  },
  {
   "cell_type": "code",
   "execution_count": 55,
   "id": "8911e639",
   "metadata": {},
   "outputs": [
    {
     "data": {
      "image/png": "[encoded data removed]",
      "text/plain": [
       "<Figure size 640x480 with 1 Axes>"
      ]
     },
     "metadata": {},
     "output_type": "display_data"
    }
   ],
   "source": [
    "plt.imshow(x_filter, cmap='gray');"
   ]
  },
  {
   "cell_type": "code",
   "execution_count": 56,
   "id": "4f63f63f",
   "metadata": {},
   "outputs": [
    {
     "data": {
      "image/png": "[encoded data removed]",
      "text/plain": [
       "<Figure size 640x480 with 1 Axes>"
      ]
     },
     "metadata": {},
     "output_type": "display_data"
    }
   ],
   "source": [
    "plt.imshow(y_filter, cmap='gray');"
   ]
  },
  {
   "cell_type": "code",
   "execution_count": 54,
   "id": "1e941b5d",
   "metadata": {},
   "outputs": [
    {
     "data": {
      "image/png": "[encoded data removed]",
      "text/plain": [
       "<Figure size 640x480 with 1 Axes>"
      ]
     },
     "metadata": {},
     "output_type": "display_data"
    }
   ],
   "source": [
    "\n",
    "plt.imshow(feature_map, cmap='gray');"
   ]
  }
 ],
 "metadata": {
  "kernelspec": {
   "display_name": "Python 3.9.13 ('base')",
   "language": "python",
   "name": "python3"
  },
  "language_info": {
   "codemirror_mode": {
    "name": "ipython",
    "version": 3
   },
   "file_extension": ".py",
   "mimetype": "text/x-python",
   "name": "python",
   "nbconvert_exporter": "python",
   "pygments_lexer": "ipython3",
   "version": "3.9.13"
  },
  "vscode": {
   "interpreter": {
    "hash": "864f8d8b4840020f26ec67225d5591c64f76831423ee6ca9a625bc7dce437ae7"
   }
  }
 },
 "nbformat": 4,
 "nbformat_minor": 5
}
